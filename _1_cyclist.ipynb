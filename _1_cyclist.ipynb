{
  "nbformat": 4,
  "nbformat_minor": 0,
  "metadata": {
    "colab": {
      "name": "#1_cyclist.ipynb",
      "provenance": [],
      "authorship_tag": "ABX9TyNUIYBL5DmS4Hh/M1ss7KTw",
      "include_colab_link": true
    },
    "kernelspec": {
      "name": "python3",
      "display_name": "Python 3"
    }
  },
  "cells": [
    {
      "cell_type": "markdown",
      "metadata": {
        "id": "view-in-github",
        "colab_type": "text"
      },
      "source": [
        "<a href=\"https://colab.research.google.com/github/Nivashinik/internship/blob/main/_1_cyclist.ipynb\" target=\"_parent\"><img src=\"https://colab.research.google.com/assets/colab-badge.svg\" alt=\"Open In Colab\"/></a>"
      ]
    },
    {
      "cell_type": "code",
      "metadata": {
        "id": "Ry7me_x2YRQO"
      },
      "source": [
        "\r\n",
        "def tot_distance(no_rounds):\r\n",
        "    length=7 #length of the path\r\n",
        "    total_distance=length*no_rounds\r\n",
        "    return total_distance\r\n",
        "\r\n",
        "no_rounds=int(input(\"Enter No. of Rounds :\"))\r\n",
        "total_distance=tot_distance(no_rounds)\r\n",
        "print(total_distance,\"Kms travelled\")\r\n"
      ],
      "execution_count": null,
      "outputs": []
    }
  ]
}