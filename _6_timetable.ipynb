{
  "nbformat": 4,
  "nbformat_minor": 0,
  "metadata": {
    "colab": {
      "name": "#6_timetable.ipynb",
      "provenance": [],
      "authorship_tag": "ABX9TyNIhi/HfQtzc97O3MwaNToo",
      "include_colab_link": true
    },
    "kernelspec": {
      "name": "python3",
      "display_name": "Python 3"
    }
  },
  "cells": [
    {
      "cell_type": "markdown",
      "metadata": {
        "id": "view-in-github",
        "colab_type": "text"
      },
      "source": [
        "<a href=\"https://colab.research.google.com/github/Nivashinik/internship/blob/main/_6_timetable.ipynb\" target=\"_parent\"><img src=\"https://colab.research.google.com/assets/colab-badge.svg\" alt=\"Open In Colab\"/></a>"
      ]
    },
    {
      "cell_type": "code",
      "metadata": {
        "colab": {
          "base_uri": "https://localhost:8080/"
        },
        "id": "6cl6MTeGz39b",
        "outputId": "80a72d3f-25ab-42ce-92b5-d21c84e08756"
      },
      "source": [
        "import random\r\n",
        "def time_table(day):\r\n",
        "  subjects=[\"Science\",\"Social\",\"Tamil\",\"English\",\"Maths\"]\r\n",
        "  timetable_dict={}\r\n",
        "  if day<=5:\r\n",
        "    for i in range(1,6):\r\n",
        "      timetable_dict[i]=random.choice(subjects)\r\n",
        "    print(\"The timetable for Day\",day,\"is:\",timetable_dict)  \r\n",
        "  else:\r\n",
        "    print(\"Camp is completed\")  \r\n",
        "\r\n",
        "\r\n",
        "\r\n",
        "Day=int(input(\"Enter the day :\"))\r\n",
        "time_table(Day)\r\n"
      ],
      "execution_count": 13,
      "outputs": [
        {
          "output_type": "stream",
          "text": [
            "Enter the day :7\n",
            "Camp is completed\n"
          ],
          "name": "stdout"
        }
      ]
    }
  ]
}