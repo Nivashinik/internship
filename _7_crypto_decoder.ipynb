{
  "nbformat": 4,
  "nbformat_minor": 0,
  "metadata": {
    "colab": {
      "name": "#7_crypto_decoder.ipynb",
      "provenance": [],
      "collapsed_sections": [],
      "authorship_tag": "ABX9TyOMj/Gc8vRMiyNlHpIGbqEr",
      "include_colab_link": true
    },
    "kernelspec": {
      "name": "python3",
      "display_name": "Python 3"
    }
  },
  "cells": [
    {
      "cell_type": "markdown",
      "metadata": {
        "id": "view-in-github",
        "colab_type": "text"
      },
      "source": [
        "<a href=\"https://colab.research.google.com/github/Nivashinik/internship/blob/main/_7_crypto_decoder.ipynb\" target=\"_parent\"><img src=\"https://colab.research.google.com/assets/colab-badge.svg\" alt=\"Open In Colab\"/></a>"
      ]
    },
    {
      "cell_type": "code",
      "metadata": {
        "colab": {
          "base_uri": "https://localhost:8080/"
        },
        "id": "1bfZ3T8zeyAc",
        "outputId": "4ba64492-7a1e-4aae-f54f-985769c1a4eb"
      },
      "source": [
        "def crypto_decoder(message):\r\n",
        "    decoder_dict={}\r\n",
        "    decoded_msg=''\r\n",
        "    for i in range(26):\r\n",
        "        decoder_dict[str(i+1)]=chr(65+i)\r\n",
        "    for i in message:\r\n",
        "        if i in decoder_dict:\r\n",
        "            decoded_msg+=decoder_dict[i]\r\n",
        "    return decoded_msg        \r\n",
        "      \r\n",
        "message=input(\"Enter the message: \")\r\n",
        "message_list=list(message.split(\",\"))\r\n",
        "decoded_msg=crypto_decoder(message_list)\r\n",
        "print(decoded_msg)\r\n",
        "\r\n",
        "\r\n"
      ],
      "execution_count": 2,
      "outputs": [
        {
          "output_type": "stream",
          "text": [
            "Enter the message: 1,2,3,4,26\n",
            "ABCDZ\n"
          ],
          "name": "stdout"
        }
      ]
    }
  ]
}