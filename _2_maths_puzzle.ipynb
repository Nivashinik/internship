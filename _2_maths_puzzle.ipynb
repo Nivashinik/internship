{
  "nbformat": 4,
  "nbformat_minor": 0,
  "metadata": {
    "colab": {
      "name": "#2_maths_puzzle.ipynb",
      "provenance": [],
      "authorship_tag": "ABX9TyOgB+zUQYIxEElk1HU6gn09",
      "include_colab_link": true
    },
    "kernelspec": {
      "name": "python3",
      "display_name": "Python 3"
    }
  },
  "cells": [
    {
      "cell_type": "markdown",
      "metadata": {
        "id": "view-in-github",
        "colab_type": "text"
      },
      "source": [
        "<a href=\"https://colab.research.google.com/github/Nivashinik/internship/blob/main/_2_maths_puzzle.ipynb\" target=\"_parent\"><img src=\"https://colab.research.google.com/assets/colab-badge.svg\" alt=\"Open In Colab\"/></a>"
      ]
    },
    {
      "cell_type": "code",
      "metadata": {
        "colab": {
          "base_uri": "https://localhost:8080/"
        },
        "id": "3ZaP02B9Zi2k",
        "outputId": "6f924b22-c192-4781-ec62-989d9de98f65"
      },
      "source": [
        "arr_len=5\r\n",
        "arr=[]\r\n",
        "pair_arr=[]\r\n",
        "print(\"Enter the array elements :\\n\")\r\n",
        "for i in range(arr_len):\r\n",
        "    ele=int(input())\r\n",
        "    arr.append(ele)\r\n",
        "print(\"Enter the sum :\\n\")\r\n",
        "given_sum=int(input())\r\n",
        "for i in range(arr_len-1):\r\n",
        "    for j in range(i+1,arr_len):\r\n",
        "        if arr[i]+arr[j]==given_sum:\r\n",
        "            pair_arr.append(arr[i])\r\n",
        "            pair_arr.append(arr[j])\r\n",
        "        \r\n",
        "if len(pair_arr)==0:\r\n",
        "    print(\"No Pairs found\")\r\n",
        "else:\r\n",
        "    print(\"Pairs found\")\r\n",
        "    for i in pair_arr:\r\n",
        "        print(i,end=\" \")\r\n",
        "    \r\n"
      ],
      "execution_count": 2,
      "outputs": [
        {
          "output_type": "stream",
          "text": [
            "Enter the array elements :\n",
            "\n",
            "1\n",
            "2\n",
            "3\n",
            "4\n",
            "9\n",
            "Enter the sum :\n",
            "\n",
            "8\n",
            "No Pairs found\n"
          ],
          "name": "stdout"
        }
      ]
    }
  ]
}