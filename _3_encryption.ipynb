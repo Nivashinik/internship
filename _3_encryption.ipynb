{
  "nbformat": 4,
  "nbformat_minor": 0,
  "metadata": {
    "colab": {
      "name": "#3_encryption.ipynb",
      "provenance": [],
      "authorship_tag": "ABX9TyMfnPQBD1hTnrJ6uYoh4G23",
      "include_colab_link": true
    },
    "kernelspec": {
      "name": "python3",
      "display_name": "Python 3"
    }
  },
  "cells": [
    {
      "cell_type": "markdown",
      "metadata": {
        "id": "view-in-github",
        "colab_type": "text"
      },
      "source": [
        "<a href=\"https://colab.research.google.com/github/Nivashinik/internship/blob/main/_3_encryption.ipynb\" target=\"_parent\"><img src=\"https://colab.research.google.com/assets/colab-badge.svg\" alt=\"Open In Colab\"/></a>"
      ]
    },
    {
      "cell_type": "code",
      "metadata": {
        "colab": {
          "base_uri": "https://localhost:8080/"
        },
        "id": "n1884UGKaaqc",
        "outputId": "ade2551f-e7a8-4e71-b493-e15c54aa6b4e"
      },
      "source": [
        "import random\r\n",
        "import string\r\n",
        "def reverse(x):\r\n",
        "    encry_message=[]\r\n",
        "    ran_char=random.choice(string.ascii_letters)\r\n",
        "    rev_message=x[::-1]\r\n",
        "    encry_message.append(ran_char)\r\n",
        "    for i in rev_message:\r\n",
        "        encry_message.append(i)\r\n",
        "    return ''.join(encry_message)    \r\n",
        "print(\"Enter the message :\\n\")\r\n",
        "message=input()\r\n",
        "encry_message=reverse(message)\r\n",
        "print(encry_message)\r\n",
        "\r\n"
      ],
      "execution_count": 1,
      "outputs": [
        {
          "output_type": "stream",
          "text": [
            "Enter the message :\n",
            "\n",
            "Pentafox\n",
            "LxofatneP\n"
          ],
          "name": "stdout"
        }
      ]
    }
  ]
}