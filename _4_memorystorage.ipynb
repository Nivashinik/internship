{
  "nbformat": 4,
  "nbformat_minor": 0,
  "metadata": {
    "colab": {
      "name": "#4_memorystorage.ipynb",
      "provenance": [],
      "authorship_tag": "ABX9TyNv6ojJz3ZlxBXsgLOXKspZ",
      "include_colab_link": true
    },
    "kernelspec": {
      "name": "python3",
      "display_name": "Python 3"
    }
  },
  "cells": [
    {
      "cell_type": "markdown",
      "metadata": {
        "id": "view-in-github",
        "colab_type": "text"
      },
      "source": [
        "<a href=\"https://colab.research.google.com/github/Nivashinik/internship/blob/main/_4_memorystorage.ipynb\" target=\"_parent\"><img src=\"https://colab.research.google.com/assets/colab-badge.svg\" alt=\"Open In Colab\"/></a>"
      ]
    },
    {
      "cell_type": "code",
      "metadata": {
        "colab": {
          "base_uri": "https://localhost:8080/"
        },
        "id": "d7ylfFaBdCeh",
        "outputId": "eef59659-1d61-4989-a20d-53efa4fd9da6"
      },
      "source": [
        "print(\"Enter the message\")\r\n",
        "temp_list=[]\r\n",
        "count_ch=1\r\n",
        "message=input()\r\n",
        "for i in range(len(message)):\r\n",
        "    if message[i]==\" \":\r\n",
        "        temp_list.append(message[i])\r\n",
        "    else:#counting the occurences of a letter \r\n",
        "        if i+1<len(message):\r\n",
        "            if message[i]==message[i+1]:\r\n",
        "                count_ch=count_ch+1 \r\n",
        "            else:\r\n",
        "                temp_list.append(message[i])\r\n",
        "                if count_ch>1:\r\n",
        "                    temp_list.append(count_ch)\r\n",
        "                count_ch=1 \r\n",
        "        else:\r\n",
        "            temp_list.append(message[i])\r\n",
        "            if count_ch>1:\r\n",
        "                temp_list.append(count_ch)\r\n",
        "comp_message=''.join(map(str,temp_list))#mapping the letter with its count\r\n",
        "print(comp_message)\r\n",
        "\r\n",
        "    \r\n",
        "    \r\n"
      ],
      "execution_count": 1,
      "outputs": [
        {
          "output_type": "stream",
          "text": [
            "Enter the message\n",
            "All is well\n",
            "Al2 is wel2\n"
          ],
          "name": "stdout"
        }
      ]
    }
  ]
}