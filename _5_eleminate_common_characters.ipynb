{
  "nbformat": 4,
  "nbformat_minor": 0,
  "metadata": {
    "colab": {
      "name": "#5_eleminate_common_characters.ipynb",
      "provenance": [],
      "authorship_tag": "ABX9TyPyeAKnydEnUZ+kPNh8FFVJ",
      "include_colab_link": true
    },
    "kernelspec": {
      "name": "python3",
      "display_name": "Python 3"
    }
  },
  "cells": [
    {
      "cell_type": "markdown",
      "metadata": {
        "id": "view-in-github",
        "colab_type": "text"
      },
      "source": [
        "<a href=\"https://colab.research.google.com/github/Nivashinik/internship/blob/main/_5_eleminate_common_characters.ipynb\" target=\"_parent\"><img src=\"https://colab.research.google.com/assets/colab-badge.svg\" alt=\"Open In Colab\"/></a>"
      ]
    },
    {
      "cell_type": "code",
      "metadata": {
        "colab": {
          "base_uri": "https://localhost:8080/"
        },
        "id": "n1RNQm_Ddxg6",
        "outputId": "3dee5c29-2b60-4710-a8cc-5987926e14fc"
      },
      "source": [
        "\r\n",
        "def eleminate(word1,word2):\r\n",
        "    out_str=''\r\n",
        "    for i in word1:\r\n",
        "        if i not in word2:\r\n",
        "            out_str+=i \r\n",
        "    for j in word2:\r\n",
        "        if j not in word1:\r\n",
        "            out_str+=j\r\n",
        "    return out_str        \r\n",
        "\r\n",
        "word1=input(\"Word-1:\")\r\n",
        "word2=input(\"Word-2:\")\r\n",
        "out_str=eleminate(word1,word2)\r\n",
        "print(out_str)\r\n",
        "\r\n"
      ],
      "execution_count": 1,
      "outputs": [
        {
          "output_type": "stream",
          "text": [
            "Word-1:Rajesh\n",
            "Word-2:Ganesh\n",
            "RjGn\n"
          ],
          "name": "stdout"
        }
      ]
    }
  ]
}